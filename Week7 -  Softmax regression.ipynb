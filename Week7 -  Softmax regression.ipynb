{
 "cells": [
  {
   "cell_type": "markdown",
   "metadata": {},
   "source": [
    "# SoftMax Regression"
   ]
  },
  {
   "cell_type": "code",
   "execution_count": null,
   "metadata": {},
   "outputs": [],
   "source": [
    "#Imports\n",
    "\n",
    "import numpy as np\n",
    "from keras.datasets import mnist\n",
    "import matplotlib.pyplot as plt"
   ]
  },
  {
   "cell_type": "markdown",
   "metadata": {},
   "source": [
    "## Training data"
   ]
  },
  {
   "cell_type": "code",
   "execution_count": null,
   "metadata": {},
   "outputs": [],
   "source": [
    "(train_X, train_y), (test_X, test_y) = mnist.load_data()"
   ]
  },
  {
   "cell_type": "code",
   "execution_count": null,
   "metadata": {},
   "outputs": [],
   "source": [
    "# Plotting some examples\n",
    "fig = plt.figure(figsize=(10,7))\n",
    "for i in range(15):\n",
    "    ax = fig.add_subplot(3, 5, i+1)\n",
    "    ax.imshow(train_X[i], cmap=plt.get_cmap('gray'))\n",
    "    ax.set_title('Label (y): {y}'.format(y=train_y[i]))\n",
    "    plt.axis('off')"
   ]
  },
  {
   "cell_type": "code",
   "execution_count": null,
   "metadata": {},
   "outputs": [],
   "source": [
    "X_train = train_X.reshape(train_X.shape[0], 28*28)\n",
    "X_test = test_X.reshape(test_X.shape[0], 28*28)"
   ]
  },
  {
   "cell_type": "code",
   "execution_count": null,
   "metadata": {},
   "outputs": [],
   "source": [
    "#Normalising\n",
    "X_train = X_train/255\n",
    "X_test = X_test/255"
   ]
  },
  {
   "cell_type": "markdown",
   "metadata": {},
   "source": [
    "* For softax regression, label vector y needs to be represented as one-hot encoding"
   ]
  },
  {
   "cell_type": "code",
   "execution_count": null,
   "metadata": {},
   "outputs": [],
   "source": [
    "def convert_to_one_hot_encoding(y, k):\n",
    "    #Intitalising with zeros\n",
    "    y_one_hot = np.zeros((len(y), k))\n",
    "\n",
    "    #Putting 1 for column where the label is\n",
    "    y_one_hot[np.arange(len(y)), y] = 1\n",
    "    return y_one_hot\n"
   ]
  },
  {
   "cell_type": "markdown",
   "metadata": {},
   "source": [
    "## Model: Softmax regression Implementation"
   ]
  },
  {
   "cell_type": "markdown",
   "metadata": {},
   "source": [
    "### STEP 1\n",
    "In vectorised form, we implement: $Z = XW + b$"
   ]
  },
  {
   "cell_type": "code",
   "execution_count": null,
   "metadata": {},
   "outputs": [],
   "source": [
    "def linear_combination(X, w, b):\n",
    "    return X @ w + b"
   ]
  },
  {
   "cell_type": "markdown",
   "metadata": {},
   "source": [
    "### Step 2\n",
    "Calculate softmax for each class \n",
    "$$\n",
    "Softmax(Z) = \\frac{exp(Z)}{\\sum exp(Z)}\n",
    "$$"
   ]
  },
  {
   "cell_type": "code",
   "execution_count": null,
   "metadata": {},
   "outputs": [],
   "source": [
    "def softmax(z):\n",
    "    # z--> linear part\n",
    "    # Subtracting the max of z fo numerical stability.\n",
    "    exp = np.exp(z - np.max(z))\n",
    "\n",
    "    #Calculating softmax for all example\n",
    "    for i in range(len(z)):\n",
    "        exp[i] /= np.sum(exp[i])\n",
    "\n",
    "    return exp"
   ]
  },
  {
   "cell_type": "markdown",
   "metadata": {},
   "source": [
    "## Loss function and Optimisation\n",
    "*  Categorical cross entropy loss\n",
    "\n",
    "$$\n",
    "J(W, b) = - \\sum_{k} \\mathbf{y}_k \\space log(\\mathbf{\\hat{y}_k})\n",
    "$$\n",
    "\n",
    "* Gradient\n",
    "\n",
    "$$\n",
    "\\frac{\\partial J(W, b)}{\\partial W} = X^T(\\hat{Y} - Y) \\\\[10pt]\n",
    "\\frac{\\partial J(W, b)}{\\partial b} = \\hat{Y} - Y\n",
    "$$"
   ]
  },
  {
   "cell_type": "code",
   "execution_count": null,
   "metadata": {},
   "outputs": [],
   "source": [
    "def fit(X, y, lr, n_classes, epochs):\n",
    "    '''\n",
    "    Args:\n",
    "        X: Feature matrix\n",
    "        y: Labels\n",
    "        lr: Learning rate\n",
    "        n_classes: Number of classes\n",
    "        epochs: Number of epochs for training\n",
    "    \n",
    "    Returns:\n",
    "        w: learned weight vectors\n",
    "        b: learned biases\n",
    "        Losses: Losses reported in each epoch\n",
    "\n",
    "    '''\n",
    "    n_samples, n_features = X.shape\n",
    "\n",
    "    w = np.random.random((n_features, n_classes))\n",
    "    b = np.random.random(n_classes)\n",
    "\n",
    "    Losses = []\n",
    "\n",
    "    for epoch in range(epochs):\n",
    "        \n",
    "        z = linear_combination(X, w, b)\n",
    "        y_hat = softmax(z)\n",
    "        y_hot = convert_to_one_hot_encoding(y, n_classes)\n",
    "\n",
    "        w_grad = (1/n_samples) * np.dot(X.T, (y_hat - y_hot))\n",
    "        b_grad = (1/n_samples) * np.sum(y_hat - y_hot)\n",
    "\n",
    "        w -= lr * w_grad\n",
    "        b -= lr * b_grad\n",
    "\n",
    "        loss = -np.mean(np.log(y_hat[np.arange(len(y)), y]))\n",
    "        Losses.append(loss)\n",
    "\n",
    "        if (epoch % 10 == 0):\n",
    "            print('Epoch {epoch} ==> Loss = {loss}'.format(epoch=epoch, loss=loss))\n",
    "\n",
    "    return w, b, Losses"
   ]
  },
  {
   "cell_type": "code",
   "execution_count": null,
   "metadata": {},
   "outputs": [],
   "source": [
    "def predict(X, w, b):\n",
    "    '''\n",
    "    Args:\n",
    "        X: Feature matrix\n",
    "        w: Weight vector\n",
    "        b: Bias\n",
    "\n",
    "    Return:\n",
    "        Predictions\n",
    "    '''\n",
    "\n",
    "    z = linear_combination(X, w, b)\n",
    "    y_hat = softmax(z)\n",
    "\n",
    "    return np.argmax(y_hat, axis=1)\n",
    "\n",
    "def accuracy(y, y_hat):\n",
    "    return np.sum(y == y_hat)/len(y)"
   ]
  },
  {
   "cell_type": "markdown",
   "metadata": {},
   "source": [
    "## Digit recognition on MNIST data"
   ]
  },
  {
   "cell_type": "code",
   "execution_count": null,
   "metadata": {},
   "outputs": [],
   "source": [
    "weight, bias, losses = fit(X_train, train_y, lr=0.9, n_classes=10, epochs=100)"
   ]
  },
  {
   "cell_type": "markdown",
   "metadata": {},
   "source": [
    "### Learning Curve"
   ]
  },
  {
   "cell_type": "code",
   "execution_count": null,
   "metadata": {},
   "outputs": [],
   "source": [
    "plt.figure()\n",
    "plt.title(\"Learning Curve\")\n",
    "plt.legend(['Training Loss'])\n",
    "plt.xlabel('No. of Epochs')\n",
    "plt.ylabel('Loss function')\n",
    "plt.plot(np.arange(len(losses)), losses, 'b-')\n",
    "plt.show()"
   ]
  },
  {
   "cell_type": "code",
   "execution_count": null,
   "metadata": {},
   "outputs": [],
   "source": [
    "train_preds = predict(X_train, weight, bias)\n",
    "print('Accuracy of training set: ', accuracy(train_y, train_preds))"
   ]
  },
  {
   "cell_type": "code",
   "execution_count": null,
   "metadata": {},
   "outputs": [],
   "source": [
    "test_preds = predict(X_test, weight, bias)\n",
    "print('Accuracy of test set: ', accuracy(test_y, test_preds))"
   ]
  },
  {
   "cell_type": "code",
   "execution_count": null,
   "metadata": {},
   "outputs": [],
   "source": [
    "from sklearn.metrics import ConfusionMatrixDisplay\n",
    "\n",
    "cm_disp = ConfusionMatrixDisplay.from_predictions(test_y, test_preds)"
   ]
  },
  {
   "cell_type": "code",
   "execution_count": null,
   "metadata": {},
   "outputs": [],
   "source": [
    "from sklearn.metrics import classification_report\n",
    "print(classification_report(test_y, test_preds))"
   ]
  },
  {
   "cell_type": "code",
   "execution_count": null,
   "metadata": {},
   "outputs": [],
   "source": []
  }
 ],
 "metadata": {
  "kernelspec": {
   "display_name": "Python 3.10.2 64-bit",
   "language": "python",
   "name": "python3"
  },
  "language_info": {
   "codemirror_mode": {
    "name": "ipython",
    "version": 3
   },
   "file_extension": ".py",
   "mimetype": "text/x-python",
   "name": "python",
   "nbconvert_exporter": "python",
   "pygments_lexer": "ipython3",
   "version": "3.10.2"
  },
  "orig_nbformat": 4,
  "vscode": {
   "interpreter": {
    "hash": "369f2c481f4da34e4445cda3fffd2e751bd1c4d706f27375911949ba6bb62e1c"
   }
  }
 },
 "nbformat": 4,
 "nbformat_minor": 2
}
