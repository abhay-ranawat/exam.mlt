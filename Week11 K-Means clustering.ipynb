{
 "cells": [
  {
   "cell_type": "markdown",
   "metadata": {},
   "source": [
    "# K-Means Clustering"
   ]
  },
  {
   "cell_type": "code",
   "execution_count": null,
   "metadata": {},
   "outputs": [],
   "source": [
    "import matplotlib.pyplot as plt\n",
    "import seaborn as sns; sns.set()\n",
    "import numpy as np\n",
    "\n",
    "from scipy.spatial.distance import cdist\n",
    "from sklearn.datasets import make_blobs"
   ]
  },
  {
   "cell_type": "markdown",
   "metadata": {},
   "source": [
    "## Implementation\n",
    "\n",
    "1. Randomly initiate k centroids. Note that each centroid is a vector in $m$ dimensional space.\n",
    "2. Repeat until convergence:\n",
    "    (2a). Assign points to the closest centroid\n",
    "    (2b). Calculate the centroids based on the points assigned to the cluster.\n",
    "\n",
    "The algorithm converges when the centroid stops changing or in other words the cluster membership stabilizes."
   ]
  },
  {
   "cell_type": "code",
   "execution_count": null,
   "metadata": {},
   "outputs": [],
   "source": [
    "def fit(X, k):\n",
    "    # Take k random points from data set and take them as initial centroids\n",
    "    centroids = X[np.random.randint(0, X.shape[0], size=k)]\n",
    "\n",
    "    #calculate initial label for each data point\n",
    "    labels = np.argmin(cdist(X, centroids), axis=1)\n",
    "\n",
    "    for _iteration in range(10):\n",
    "        # copy labels for all points for comparing later\n",
    "        previous_labels = labels.copy()\n",
    "\n",
    "        # compute new centroids\n",
    "        centroids = np.array([np.mean(X[labels==r], axis=0) for r in range(k)])\n",
    "\n",
    "        # at last recalculate label for each data point\n",
    "        labels = np.argmin(cdist(X, centroids), axis=1)\n",
    "\n",
    "        # Check if labels of points are not changing\n",
    "        if all(labels == previous_labels):\n",
    "            break\n",
    "\n",
    "    return centroids, labels\n",
    "\n"
   ]
  },
  {
   "cell_type": "markdown",
   "metadata": {},
   "source": [
    "## Demonstration"
   ]
  },
  {
   "cell_type": "markdown",
   "metadata": {},
   "source": [
    "### Generate data"
   ]
  },
  {
   "cell_type": "code",
   "execution_count": null,
   "metadata": {},
   "outputs": [],
   "source": [
    "cluster_count = 3\n",
    "\n",
    "from sklearn.datasets._samples_generator import make_blobs\n",
    "\n",
    "X, y_true = make_blobs(n_samples = 100,\n",
    "                        centers = cluster_count,\n",
    "                        cluster_std = 0.55,\n",
    "                        random_state = 0) \n",
    "\n",
    "plt.figure(figsize=(8,6))\n",
    "axes = plt.gca()\n",
    "axes.axis('equal')\n",
    "plt.scatter(X[:, 0], X[:, 1])\n",
    "plt.title('Artificically generated data points')\n",
    "plt.show()"
   ]
  },
  {
   "cell_type": "markdown",
   "metadata": {},
   "source": [
    "### Clustering"
   ]
  },
  {
   "cell_type": "code",
   "execution_count": null,
   "metadata": {},
   "outputs": [],
   "source": [
    "centroids, labels = fit(X, cluster_count)"
   ]
  },
  {
   "cell_type": "code",
   "execution_count": null,
   "metadata": {},
   "outputs": [],
   "source": [
    "print(\"Centroids: \", centroids)"
   ]
  },
  {
   "cell_type": "markdown",
   "metadata": {},
   "source": [
    "### Visualising the clusters"
   ]
  },
  {
   "cell_type": "code",
   "execution_count": null,
   "metadata": {},
   "outputs": [],
   "source": [
    "def plot_kmeans(X, centroids, labels, rseed=0, ax=None):\n",
    "    #plot the inout data\n",
    "    ax = ax or plt.gca()\n",
    "    ax.axis('equal')\n",
    "\n",
    "    ax.scatter(X[:, 0], X[:, 1], c = labels, s=40, cmap='plasma', zorder=2)\n",
    "\n",
    "    #PLot the respresentation  of the KMeans model\n",
    "    radii = [cdist(X[labels == i], [center]).max() for i, center in enumerate(centroids)]\n",
    "\n",
    "    for c, r in zip(centroids, radii):\n",
    "        ax.add_patch(plt.Circle(c, r, fc=\"#CCCCCC\", lw=5, alpha=0.5, zorder=1))"
   ]
  },
  {
   "cell_type": "code",
   "execution_count": null,
   "metadata": {},
   "outputs": [],
   "source": [
    "plt.figure(figsize=(8,6))\n",
    "plot_kmeans(X, centroids, labels)"
   ]
  }
 ],
 "metadata": {
  "kernelspec": {
   "display_name": "Python 3.10.2 64-bit",
   "language": "python",
   "name": "python3"
  },
  "language_info": {
   "codemirror_mode": {
    "name": "ipython",
    "version": 3
   },
   "file_extension": ".py",
   "mimetype": "text/x-python",
   "name": "python",
   "nbconvert_exporter": "python",
   "pygments_lexer": "ipython3",
   "version": "3.10.2"
  },
  "orig_nbformat": 4,
  "vscode": {
   "interpreter": {
    "hash": "369f2c481f4da34e4445cda3fffd2e751bd1c4d706f27375911949ba6bb62e1c"
   }
  }
 },
 "nbformat": 4,
 "nbformat_minor": 2
}
