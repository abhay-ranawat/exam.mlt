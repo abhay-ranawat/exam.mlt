{
 "cells": [
  {
   "cell_type": "markdown",
   "metadata": {},
   "source": [
    "# K Nearest Neighbours (KNN)"
   ]
  },
  {
   "cell_type": "code",
   "execution_count": null,
   "metadata": {},
   "outputs": [],
   "source": [
    "# Imports \n",
    "import numpy as np\n",
    "import matplotlib.pyplot as plt\n",
    "import seaborn as sns\n",
    "plt.style.use('seaborn')\n",
    "\n",
    "from scipy import stats\n",
    "from sklearn.datasets import make_classification, make_blobs\n",
    "from sklearn.model_selection import train_test_split"
   ]
  },
  {
   "cell_type": "markdown",
   "metadata": {},
   "source": [
    "## Distance computation"
   ]
  },
  {
   "cell_type": "code",
   "execution_count": null,
   "metadata": {},
   "outputs": [],
   "source": [
    "def euclidean_distance(x1, x2):\n",
    "    '''Computes Euclidean distance between two points x1 and x2\n",
    "    \n",
    "    Args:\n",
    "        x1: Point 1\n",
    "        x2: Point 2\n",
    "\n",
    "    returns:\n",
    "        dist: Euclidean distance\n",
    "    '''\n",
    "    dist = np.sum((x1 -x2)**2, axis = 1)\n",
    "    return dist\n",
    "\n",
    "def manhattan_distance(x1, x2):\n",
    "    '''Computes Manhattan distance between two points x1 and x2\n",
    "    \n",
    "    Args:\n",
    "        x1: Point 1\n",
    "        x2: Point 2\n",
    "\n",
    "    returns:\n",
    "        dist: Manhattan distance\n",
    "    '''\n",
    "    dist = np.sum(np.abs(x1 -x2), axis = 1)\n",
    "    return dist"
   ]
  },
  {
   "cell_type": "markdown",
   "metadata": {},
   "source": [
    "## KNN Implementation"
   ]
  },
  {
   "cell_type": "code",
   "execution_count": null,
   "metadata": {},
   "outputs": [],
   "source": [
    "class KNN:\n",
    "    def __init__(self, k, distance_metric = euclidean_distance, task_type = \"Classification\"):\n",
    "\n",
    "        self._k = k\n",
    "        self._distance_metric = distance_metric\n",
    "        self._task_type = task_type\n",
    "\n",
    "    def fit(self, X, y):\n",
    "        ''' Stores training data for KNN\n",
    "        Args:\n",
    "            X: Feature matrix\n",
    "            y: labels\n",
    "        \n",
    "        Returns:\n",
    "             ------------\n",
    "        '''\n",
    "        self._X = X\n",
    "        self._y = y\n",
    "\n",
    "    def predict(self, new_example):\n",
    "        '''Predict the class labels for a new example supplied\n",
    "        Args:\n",
    "            new_example: New examples\n",
    "\n",
    "        Returns:\n",
    "            label: Predicted labels for new_example\n",
    "            knn_indices: Indices of K nearest neighbours\n",
    "        '''\n",
    "\n",
    "        distance_vector  = self._distance_metric(self._X, new_example)\n",
    "\n",
    "        knn_indices = np.argpartition(distance_vector, self._k)[:self._k]\n",
    "\n",
    "        knn = self._y[knn_indices]\n",
    "\n",
    "        if self._task_type == 'Classification':\n",
    "            label = stats.mode(knn)[0]\n",
    "\n",
    "        else:\n",
    "            label = knn.mean()\n",
    "\n",
    "        return label, knn_indices\n",
    "\n",
    "    def eval(self, X_test, y_test):\n",
    "        '''Evaluates KNN\n",
    "        Args:\n",
    "            X_test: feature matrix\n",
    "            y_test: labels\n",
    "\n",
    "        Returns:\n",
    "            Misclassification error\n",
    "        '''\n",
    "        if self._task_type == 'Classification':\n",
    "            y_pred = np.zeros(y_test.shape)\n",
    "            for i in range(y_test.shape[0]):\n",
    "                y_pred[i], _ = self.predict(X_test[i,:]) \n",
    "            error = np.mean(y_test == y_pred, axis = 0)\n",
    "        else:\n",
    "            y_pred = np.zeros(y_test.shape)\n",
    "            for i in range(y_test.shape[0]):\n",
    "                y_pred[i], _ = self.predict(X_test[i,:]) \n",
    "            error_vector = y_pred - y_test\n",
    "            error = np.sqrt((error_vector.T @ error_vector)/ error_vector.ravel().shape[0])\n",
    "\n",
    "        return error"
   ]
  },
  {
   "cell_type": "markdown",
   "metadata": {},
   "source": [
    "## Classification"
   ]
  },
  {
   "cell_type": "markdown",
   "metadata": {},
   "source": [
    "### Example 1: Simple decision boundary"
   ]
  },
  {
   "cell_type": "markdown",
   "metadata": {},
   "source": [
    "Let's generate 100 points, each represented with two features and a class label. The point are generated such that they are clustered into two groups with mean [0, 0] and [5, 5] with standard deviation 1."
   ]
  },
  {
   "cell_type": "code",
   "execution_count": null,
   "metadata": {},
   "outputs": [],
   "source": [
    "X, y = make_blobs(n_samples = 100,\n",
    "                    n_features = 2,\n",
    "                    centers = [[0, 0], [5, 5]],\n",
    "                    cluster_std = 1,\n",
    "                    random_state = 12)\n"
   ]
  },
  {
   "cell_type": "code",
   "execution_count": null,
   "metadata": {},
   "outputs": [],
   "source": [
    "print(\"Shape of feature matrix: \", X.shape)\n",
    "print(\"Shape of label vector: \", y.shape)"
   ]
  },
  {
   "cell_type": "code",
   "execution_count": null,
   "metadata": {},
   "outputs": [],
   "source": [
    "#Visualisation\n",
    "plt.figure(figsize=(10,8))\n",
    "plt.grid(True)\n",
    "plt.scatter(X[:, 0], X[:, 1], marker='o', c = y,\n",
    "            s=200, edgecolors='k', alpha=0.8)\n",
    "plt.show()"
   ]
  },
  {
   "cell_type": "code",
   "execution_count": null,
   "metadata": {},
   "outputs": [],
   "source": [
    "new_example = np.array([2.2, 2.2])\n",
    "\n",
    "model = KNN(3, distance_metric=euclidean_distance)\n",
    "\n",
    "model.fit(X, y)\n",
    "\n",
    "prediction, nearest_neighbour_indices = model.predict(new_example.reshape(1,2))"
   ]
  },
  {
   "cell_type": "code",
   "execution_count": null,
   "metadata": {},
   "outputs": [],
   "source": [
    "#Visualisation\n",
    "plt.figure(figsize=(10,8))\n",
    "plt.grid(True)\n",
    "plt.scatter(X[:, 0], X[:, 1], marker='o', c = y,\n",
    "            s=200, edgecolors='k', alpha=0.8)\n",
    "plt.scatter(new_example[0], new_example[1], marker='o', c = 'white',\n",
    "            s=200, edgecolors='k', alpha=0.8)\n",
    "plt.annotate('New example', xy = new_example, xytext=(50, -50),\n",
    "            textcoords='offset points', arrowprops=dict(facecolor='black', shrink=0.05), fontsize=24)\n",
    "plt.show()"
   ]
  },
  {
   "cell_type": "markdown",
   "metadata": {},
   "source": [
    "Nearest neighbours"
   ]
  },
  {
   "cell_type": "code",
   "execution_count": null,
   "metadata": {},
   "outputs": [],
   "source": [
    "plt.figure(figsize=(10,8))\n",
    "plt.grid(True)\n",
    "plt.scatter(X[:, 0], X[:, 1], marker='o', c = y,\n",
    "            s=200, edgecolors='k', alpha=0.8)\n",
    "plt.scatter(new_example[0], new_example[1], marker='o', c = 'white',\n",
    "            s=200, edgecolors='k', alpha=0.8)\n",
    "\n",
    "for xi in X[nearest_neighbour_indices]:\n",
    "    plt.plot([new_example[0], xi[0]], [new_example[1], xi[1]], 'g--', linewidth=3)\n",
    "\n",
    "plt.title(\"3 Nearest Neighbours\", fontsize=24)\n",
    "plt.show()"
   ]
  },
  {
   "cell_type": "markdown",
   "metadata": {},
   "source": [
    "### Simple decision boundary"
   ]
  },
  {
   "cell_type": "code",
   "execution_count": null,
   "metadata": {},
   "outputs": [],
   "source": [
    "def draw_decsion_boundary(model, axis_chart, num_points=201, opacity=0.05):\n",
    "\n",
    "    tx = np.linspace(np.min(model._X[:, 0], axis = 0) - 2,\n",
    "                        np.max(model._X[:, 0], axis=0) + 2, num_points)\n",
    "    ty = np.linspace(np.min(model._X[:, 1], axis = 0) - 2,\n",
    "                        np.max(model._X[:, 1], axis=0) + 2, num_points)\n",
    "\n",
    "    xx, yy = np.meshgrid(tx, ty)\n",
    "    grid_prediction = np.zeros(xx.shape)\n",
    "\n",
    "    for i in range(num_points):\n",
    "        for j in range(num_points):\n",
    "            grid_prediction[i][j], _ = model.predict([xx[i][j], yy[i][j]])\n",
    "\n",
    "    axis_chart.scatter(xx.ravel(), yy.ravel(),\n",
    "                        c = grid_prediction.ravel(), alpha = opacity)"
   ]
  },
  {
   "cell_type": "code",
   "execution_count": null,
   "metadata": {},
   "outputs": [],
   "source": [
    "plt.figure(figsize=(10,8))\n",
    "current_axis = plt.gca()\n",
    "plt.grid(True)\n",
    "\n",
    "draw_decsion_boundary(model, current_axis)\n",
    "\n",
    "plt.scatter(X[:, 0 ], X[:, 1], marker='o', c = y,\n",
    "            s = 250, edgecolors='k', alpha=0.8)\n",
    "\n",
    "plt.title(\"3 Nearest Neighbours: Decision Boundary\", fontsize=24)\n",
    "plt.show()"
   ]
  },
  {
   "cell_type": "markdown",
   "metadata": {},
   "source": [
    "### Complex decison boundary"
   ]
  },
  {
   "cell_type": "code",
   "execution_count": null,
   "metadata": {},
   "outputs": [],
   "source": [
    "def make_two_spirals(num_points=1000, rotations = 2, noise = 0.5):\n",
    "    '''Make  a synthetic dataset of two classes in the form of spirals\n",
    "    Args: \n",
    "        num_points: No. of points to be gereated per spiral\n",
    "        rotations: How many times a spiral shoul rotate\n",
    "        noise: noise factor\n",
    "\n",
    "    Returns:\n",
    "        Coordinates and class vectors of the two spirals\n",
    "    '''\n",
    "\n",
    "    n = np.sqrt(np.random.rand(num_points, 1)) * rotations * (2 * np.pi)\n",
    "    rx = -np.cos(n) * n + np.random.rand(num_points, 1) * noise\n",
    "    ry = np.sin(n) * n + np.random.rand(num_points, 1) * noise\n",
    "\n",
    "    return (np.concatenate((np.hstack((rx, ry)),\n",
    "                            np.hstack((-rx, -ry))),\n",
    "                                        axis = 0),\n",
    "            np.concatenate((np.zeros(num_points),\n",
    "                            np.ones(num_points)),\n",
    "                            axis = 0))\n",
    "\n",
    "X_spiral, y_spiral = make_two_spirals()"
   ]
  },
  {
   "cell_type": "code",
   "execution_count": null,
   "metadata": {},
   "outputs": [],
   "source": [
    "plt.figure(figsize=(8,8))\n",
    "\n",
    "model = KNN(3)\n",
    "model.fit(X_spiral, y_spiral)\n",
    "\n",
    "draw_decsion_boundary(model, plt.gca(), opacity=0.02)\n",
    "\n",
    "plt.scatter(X_spiral[:, 0 ], X_spiral[:, 1], marker='o', c = y_spiral,\n",
    "            s = 50, edgecolors='k', alpha=0.8)\n",
    "\n",
    "plt.title(\"3 Nearest Neighbours: Decision Boundary\", fontsize=20)\n",
    "plt.legend(['Class 1', 'Class 2'])\n",
    "plt.show()"
   ]
  },
  {
   "cell_type": "markdown",
   "metadata": {},
   "source": [
    "## Regression"
   ]
  },
  {
   "cell_type": "code",
   "execution_count": null,
   "metadata": {},
   "outputs": [],
   "source": [
    "np.random.seed(42)\n",
    "\n",
    "w1 = 3\n",
    "w0 = 4\n",
    "n = 100\n",
    "\n",
    "X = 2 * np.random.rand(n,)\n",
    "y = w0 + w1 * X + np.random.randn(n,)"
   ]
  },
  {
   "cell_type": "code",
   "execution_count": null,
   "metadata": {},
   "outputs": [],
   "source": [
    "X = X.reshape(-1, 1)\n",
    "y = y.reshape(-1, 1)"
   ]
  },
  {
   "cell_type": "code",
   "execution_count": null,
   "metadata": {},
   "outputs": [],
   "source": [
    "print(\"Shape of the training data feature matrix: \", X.shape)\n",
    "print(\"Shape of label vector: \", y.shape)"
   ]
  },
  {
   "cell_type": "code",
   "execution_count": null,
   "metadata": {},
   "outputs": [],
   "source": [
    "X_train, X_test, y_train, y_test = train_test_split(X, y, test_size=0.2, random_state=42)"
   ]
  },
  {
   "cell_type": "code",
   "execution_count": null,
   "metadata": {},
   "outputs": [],
   "source": [
    "sns.set_style(\"white\")\n",
    "f = plt.figure(figsize=(8,8))\n",
    "sns.set_context(\"notebook\", font_scale=1.5, rc={\"lines.linewidth\": 2.5})\n",
    "\n",
    "plt.plot(X, y, \"b.\")\n",
    "plt.title(\"Data Points\")\n",
    "plt.grid(True)\n",
    "plt.xlabel(\"$x_1$\", fontsize=18)\n",
    "plt.ylabel(\"$y$\", fontsize=18, rotation=0)\n",
    "plt.axis([0, 2, 0, 15])\n",
    "plt.show()"
   ]
  },
  {
   "cell_type": "code",
   "execution_count": null,
   "metadata": {},
   "outputs": [],
   "source": [
    "figure, axis = plt.subplots(8, 2, figsize=(12, 48))\n",
    "axis = axis.ravel()\n",
    "\n",
    "error_list = []\n",
    "for i in range(16):\n",
    "    model = KNN(i+1, task_type='Regression')\n",
    "\n",
    "    model.fit(X_train, y_train)\n",
    "\n",
    "    y_test_predicted = np.zeros_like(y_test)\n",
    "\n",
    "    for j in range(X_test.shape[0]):\n",
    "        y_test_predicted[j], _ = model.predict(X_test[j, :])\n",
    "\n",
    "    error_list.append(np.sum(np.power(y_test - y_test_predicted, 2)))\n",
    "\n",
    "    #plot predictions\n",
    "    axis[i].plot(X_test, y_test_predicted, \"r.\")\n",
    "\n",
    "    #plot ground truth\n",
    "    axis[i].plot(X_test, y_test, \"b.\") \n",
    "    axis[i].legend([\"Predicted\", \"True\"])\n",
    "\n",
    "    #set title\n",
    "    axis[i].set_title(f\"K={i+1}\")\n",
    "\n",
    "    axis[i].grid(\"True\")\n",
    "    axis[i].set(xlabel=\"$x_1$\", ylabel = \"$y$\")\n",
    "\n",
    "figure.tight_layout()\n",
    "plt.show()"
   ]
  },
  {
   "cell_type": "code",
   "execution_count": null,
   "metadata": {},
   "outputs": [],
   "source": [
    "plt.plot(np.arange(len(error_list))+1, error_list, 'b-')\n",
    "plt.xlabel(\"k\")\n",
    "plt.ylabel(\"Error\")"
   ]
  },
  {
   "cell_type": "code",
   "execution_count": null,
   "metadata": {},
   "outputs": [],
   "source": []
  }
 ],
 "metadata": {
  "kernelspec": {
   "display_name": "Python 3.8.13 64-bit ('3.8.13')",
   "language": "python",
   "name": "python3"
  },
  "language_info": {
   "codemirror_mode": {
    "name": "ipython",
    "version": 3
   },
   "file_extension": ".py",
   "mimetype": "text/x-python",
   "name": "python",
   "nbconvert_exporter": "python",
   "pygments_lexer": "ipython3",
   "version": "3.8.13"
  },
  "orig_nbformat": 4,
  "vscode": {
   "interpreter": {
    "hash": "110cc1dee26208153f2972f08a2ad52b6a56238dc66d48e87fb757ef2996db56"
   }
  }
 },
 "nbformat": 4,
 "nbformat_minor": 2
}
