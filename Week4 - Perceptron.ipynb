{
 "cells": [
  {
   "cell_type": "markdown",
   "metadata": {},
   "source": [
    "# Perceptron\n",
    "\n",
    "## Training data\n",
    "\n",
    "* Feature mtrix: $X_{n\\times(m+1)}$, including the dummy feature $x_0$ set to 1.\n",
    "* Label vector: $y_{n\\times1}$\n",
    "\n",
    "Perceptron can only solve binary classification problems"
   ]
  },
  {
   "cell_type": "markdown",
   "metadata": {},
   "source": [
    "## Setup "
   ]
  },
  {
   "cell_type": "code",
   "execution_count": null,
   "metadata": {},
   "outputs": [],
   "source": [
    "#Libraries\n",
    "import numpy as np\n",
    "import pandas as pd\n",
    "import matplotlib.pyplot as plt\n",
    "import seaborn as sns\n",
    "\n",
    "np.random.seed(1234)\n",
    "# Polynomial transform\n",
    "\n",
    "import itertools\n",
    "import functools\n",
    "\n",
    "def get_combinations(x, degree):\n",
    "    return itertools.combinations_with_replacement(x, degree)\n",
    "\n",
    "def compute_new_features(items):\n",
    "    #reduce(lambda x, y: x * y, items, [1,2,3,4,5]) calculates ((((1*2)*3)*4)*5)\n",
    "    return functools.reduce(lambda x, y: x * y, items)\n",
    "\n",
    "def polynomial_transform(x, degree, logging=False):\n",
    "    # Converts to feature matrix.\n",
    "    if x.ndim == 1:\n",
    "        x = x[:, None]\n",
    "\n",
    "    x_t = x.transpose() #transposes the feature matrix\n",
    "    features = [np.ones(len(x))] # populates 1s as the first features\n",
    "\n",
    "    if logging:\n",
    "        print (\"Input:\", x)\n",
    "    \n",
    "    for degree in range(1, degree+1):\n",
    "        for items in get_combinations(x_t, degree):\n",
    "            features.append(compute_new_features(items))\n",
    "            if logging:\n",
    "                print (items, \":\", compute_new_features(items))\n",
    "\n",
    "    if logging:\n",
    "        print(np.asarray(features).transpose())\n",
    "\n",
    "    return np.asarray(features).transpose()"
   ]
  },
  {
   "cell_type": "markdown",
   "metadata": {},
   "source": [
    "## Perceptron Class"
   ]
  },
  {
   "cell_type": "code",
   "execution_count": null,
   "metadata": {},
   "outputs": [],
   "source": [
    "class Perceptron:\n",
    "    '''Implements perceptron classificaation algorithm.\n",
    "\n",
    "        It usees the following class variables:\n",
    "\n",
    "        w: Stored the final weight vecot\n",
    "        w_all: Stores all the weight vectors in training iterations\n",
    "        errors_all: Stores all errors in training iterations\n",
    "    '''\n",
    "\n",
    "    def __init__(self):\n",
    "        return\n",
    "\n",
    "    def predict(self, X):\n",
    "        '''Predicts labels for input fature matrix X.'''\n",
    "        z = X @ self.w\n",
    "        return np.where(z >= 0, 1, -1)\n",
    "\n",
    "    def loss(self, X, y):\n",
    "        '''Calculates loss.\n",
    "        \n",
    "        Calculates loss due to current weight vector w on feature matrix X\n",
    "        and label vector y.\n",
    "\n",
    "        Args:\n",
    "            X: feature matrix\n",
    "            y; label vector\n",
    "\n",
    "        Returns:\n",
    "            loss\n",
    "        '''\n",
    "\n",
    "        return np.sum(np.maximum(-1*self.predict(X)*y, np.zeros(y.shape[0])))\n",
    "\n",
    "    def train(self, X, y, epochs=10, lr=0.001):\n",
    "        '''Implements perceptron update rule.\n",
    "        \n",
    "        Args:\n",
    "            X: feature matrix\n",
    "            y: Label vector\n",
    "            epochs: Number of epochs\n",
    "            lr: Learning rate\n",
    "\n",
    "        Returns:\n",
    "            None\n",
    "        '''\n",
    "\n",
    "        self.w = np.zeros(X.shape[1])\n",
    "        self.errors_all = []\n",
    "        self.w_all = []\n",
    "\n",
    "        for _ in range(epochs):\n",
    "            errors = 0\n",
    "            for xi, target in zip(X, y):\n",
    "                self.w += lr * (target - self.predict(xi))*xi\n",
    "                errors += (max(-1*self.predict(xi)*target, 0))\n",
    "\n",
    "            self.errors_all.append(errors)\n",
    "            self.w_all.append(self.w)\n",
    "\n",
    "            print(\"w: \", self.w)\n",
    "            print(\"J(w): \", self.errors_all[-1])\n",
    "            \n",
    "            #Commented for visualisation. Uncomment in actual visualisation\n",
    "            #if self.loss(X, y) == 0:\n",
    "            ##    break\n",
    "                    "
   ]
  },
  {
   "cell_type": "markdown",
   "metadata": {},
   "source": [
    "### Synthetic data generator"
   ]
  },
  {
   "cell_type": "code",
   "execution_count": null,
   "metadata": {},
   "outputs": [],
   "source": [
    "def create_toy_data(add_outliers = False, factor=1):\n",
    "    x0 = np.random.normal(size=50).reshape(-1, 2) - 2*factor\n",
    "    x1 = np.random.normal(size=50).reshape(-1, 2) + 2*factor\n",
    "\n",
    "    if add_outliers:\n",
    "        x_1 = np.random.normal(size=10).reshape(-1, 2) + np.array([5., 10.])\n",
    "        return np.concatenate([x0, x1, x_1]), np.concatenate([-np.ones(25), np.ones(30)]).astype(int)\n",
    "    \n",
    "    return np.concatenate([x0, x1]), np.concatenate([-np.ones(25), np.ones(25)]).astype(int)"
   ]
  },
  {
   "cell_type": "markdown",
   "metadata": {},
   "source": [
    "### Model visualisation"
   ]
  },
  {
   "cell_type": "code",
   "execution_count": null,
   "metadata": {},
   "outputs": [],
   "source": [
    "# model visualisation\n",
    "\n",
    "sns.set_context(\"notebook\", font_scale=1.5, rc={\"lines.linewidth\": 2.5})\n",
    "\n",
    "def visualize_model(X_train, labels, lsc_obj, degree=1):\n",
    "    \n",
    "    f = plt.figure(figsize=(8, 8))\n",
    "\n",
    "    #compute xlim and ylim\n",
    "    x1_min = np.min(x_train[:, 1])\n",
    "    x1_max = np.max(x_train[:, 1])\n",
    "    x2_min = np.min(x_train[:, 2])\n",
    "    x2_max = np.max(x_train[:, 2])\n",
    "\n",
    "    x1_test, x2_test = np.meshgrid(np.linspace(x1_min, x1_max, 100), np.linspace(x2_min, x2_max, 100))\n",
    "    x_test = np.array([x1_test, x2_test]).reshape(2, -1).T\n",
    "    x_test_poly = polynomial_transform(x_test, degree=degree)\n",
    "    y_test = lsc_obj.predict(x_test_poly)\n",
    "\n",
    "    sns.scatterplot(data=X_train, x=X_train[:,1], y=X_train[:,2], hue=labels)\n",
    "    plt.contourf(x1_test, x2_test, y_test.reshape(100, 100), alpha = 0.5,\n",
    "                levels = np.linspace(0,1,3))\n",
    "    plt.xlabel(\"$x_1$\") \n",
    "    plt.ylabel(\"$x_2$\")\n",
    "    plt.xlim(x1_min, x1_max)\n",
    "    plt.ylim(x2_min, x2_max)\n",
    "    plt.gca().set_aspect('equal', adjustable='box')\n",
    "    plt.show()"
   ]
  },
  {
   "cell_type": "markdown",
   "metadata": {},
   "source": [
    "## Demonstration"
   ]
  },
  {
   "cell_type": "markdown",
   "metadata": {},
   "source": [
    "### Linearly seperable case"
   ]
  },
  {
   "cell_type": "code",
   "execution_count": null,
   "metadata": {},
   "outputs": [],
   "source": [
    "from sklearn.model_selection import train_test_split\n",
    "x, y = create_toy_data()\n",
    "x_poly = polynomial_transform(x, degree=1)\n",
    "x_train, x_test, y_train, y_test = train_test_split(x_poly, y)"
   ]
  },
  {
   "cell_type": "code",
   "execution_count": null,
   "metadata": {},
   "outputs": [],
   "source": [
    "perceptron_obj = Perceptron()\n",
    "perceptron_obj.train(x_train, y_train, lr =1)\n",
    "visualize_model(x_train, y_train, perceptron_obj, degree=1)"
   ]
  },
  {
   "cell_type": "code",
   "execution_count": null,
   "metadata": {},
   "outputs": [],
   "source": [
    "perceptron_obj.errors_all"
   ]
  },
  {
   "cell_type": "code",
   "execution_count": null,
   "metadata": {},
   "outputs": [],
   "source": [
    "plt.plot(np.arange(len(perceptron_obj.errors_all)), perceptron_obj.errors_all, 'b-')\n",
    "plt.xlabel('Iteration #')\n",
    "plt.ylabel('$J(\\mathbf{w})$')\n",
    "plt.title(\"Learning Curve\")"
   ]
  },
  {
   "cell_type": "markdown",
   "metadata": {},
   "source": [
    "### Linearly non_seperable case"
   ]
  },
  {
   "cell_type": "code",
   "execution_count": null,
   "metadata": {},
   "outputs": [],
   "source": [
    "from sklearn.model_selection import train_test_split\n",
    "x, y = create_toy_data(factor=0.5)\n",
    "x_poly = polynomial_transform(x, degree=1)\n",
    "x_train, x_test, y_train, y_test = train_test_split(x_poly, y)\n",
    "\n",
    "perceptron_obj = Perceptron()\n",
    "perceptron_obj.train(x_train, y_train, lr=1)\n",
    "visualize_model(x_train, y_train, perceptron_obj, degree=1)"
   ]
  },
  {
   "cell_type": "code",
   "execution_count": null,
   "metadata": {},
   "outputs": [],
   "source": [
    "plt.plot(np.arange(len(perceptron_obj.errors_all)), perceptron_obj.errors_all, 'b-')\n",
    "plt.xlabel('Iteration #')\n",
    "plt.ylabel('$J(\\mathbf{w})$')\n",
    "plt.title(\"Learning Curve\")"
   ]
  },
  {
   "cell_type": "markdown",
   "metadata": {},
   "source": [
    "### Non-linearly seperable case"
   ]
  },
  {
   "cell_type": "code",
   "execution_count": null,
   "metadata": {},
   "outputs": [],
   "source": [
    "from sklearn.datasets import make_circles\n",
    "x, y = make_circles()\n",
    "y_trans = np.where(y==0, -1, 1)\n",
    "x_poly = polynomial_transform(x, degree=2)\n",
    "x_train, x_test, y_train, y_test = train_test_split(x_poly, y_trans)\n",
    "\n",
    "perceptron_obj = Perceptron()\n",
    "perceptron_obj.train(x_train, y_train, lr=1)\n",
    "visualize_model(x_train, y_train, perceptron_obj, degree=2)"
   ]
  },
  {
   "cell_type": "code",
   "execution_count": null,
   "metadata": {},
   "outputs": [],
   "source": []
  },
  {
   "cell_type": "code",
   "execution_count": null,
   "metadata": {},
   "outputs": [],
   "source": []
  },
  {
   "cell_type": "code",
   "execution_count": null,
   "metadata": {},
   "outputs": [],
   "source": []
  }
 ],
 "metadata": {
  "kernelspec": {
   "display_name": "Python 3.8.13 64-bit ('3.8.13')",
   "language": "python",
   "name": "python3"
  },
  "language_info": {
   "codemirror_mode": {
    "name": "ipython",
    "version": 3
   },
   "file_extension": ".py",
   "mimetype": "text/x-python",
   "name": "python",
   "nbconvert_exporter": "python",
   "pygments_lexer": "ipython3",
   "version": "3.8.13"
  },
  "orig_nbformat": 4,
  "vscode": {
   "interpreter": {
    "hash": "110cc1dee26208153f2972f08a2ad52b6a56238dc66d48e87fb757ef2996db56"
   }
  }
 },
 "nbformat": 4,
 "nbformat_minor": 2
}
